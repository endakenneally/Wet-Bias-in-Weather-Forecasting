{
 "cells": [
  {
   "cell_type": "code",
   "execution_count": 1,
   "metadata": {},
   "outputs": [],
   "source": [
    "## Here is an example that will collect data from Ballyhale\n",
    "## http://metwdb-openaccess.ichec.ie/metno-wdb2ts/locationforecast?lat=52.4676782;long=-7.2007941"
   ]
  },
  {
   "cell_type": "code",
   "execution_count": 2,
   "metadata": {},
   "outputs": [],
   "source": [
    "import pandas as pd\n",
    "import requests\n",
    "import json"
   ]
  },
  {
   "cell_type": "code",
   "execution_count": 1,
   "metadata": {},
   "outputs": [],
   "source": [
    "from datetime import datetime,timedelta\n",
    "\n"
   ]
  },
  {
   "cell_type": "code",
   "execution_count": 2,
   "metadata": {},
   "outputs": [],
   "source": [
    "# First we will need to get the API key for Openweather\n",
    "f = open('openweather_api.txt', 'r')\n",
    "api_key = f.read()\n",
    "\n",
    "g = open('wwo_api.txt','r')\n",
    "wwo_api = g.read()"
   ]
  },
  {
   "cell_type": "code",
   "execution_count": 3,
   "metadata": {},
   "outputs": [
    {
     "ename": "NameError",
     "evalue": "name 'pd' is not defined",
     "output_type": "error",
     "traceback": [
      "\u001b[1;31m---------------------------------------------------------------------------\u001b[0m",
      "\u001b[1;31mNameError\u001b[0m                                 Traceback (most recent call last)",
      "\u001b[1;32m<ipython-input-3-31e37403d52a>\u001b[0m in \u001b[0;36m<module>\u001b[1;34m\u001b[0m\n\u001b[1;32m----> 1\u001b[1;33m us_location_df = pd.DataFrame([['NewYorkCity',40.730610,-73.935242],['Jacksonville',30.332184,-81.655647],['Nashville',36.174465,-86.767960],['Chicago',41.881832,-87.623177],\n\u001b[0m\u001b[0;32m      2\u001b[0m                                 \u001b[1;33m[\u001b[0m\u001b[1;34m'Houston'\u001b[0m\u001b[1;33m,\u001b[0m \u001b[1;36m29.749907\u001b[0m\u001b[1;33m,\u001b[0m\u001b[1;33m-\u001b[0m\u001b[1;36m95.358421\u001b[0m\u001b[1;33m]\u001b[0m\u001b[1;33m,\u001b[0m\u001b[1;33m[\u001b[0m\u001b[1;34m'OcklahomaCity'\u001b[0m\u001b[1;33m,\u001b[0m\u001b[1;36m35.481918\u001b[0m\u001b[1;33m,\u001b[0m\u001b[1;33m-\u001b[0m\u001b[1;36m97.508469\u001b[0m\u001b[1;33m]\u001b[0m\u001b[1;33m,\u001b[0m\u001b[1;33m[\u001b[0m\u001b[1;34m'Philadelphia'\u001b[0m\u001b[1;33m,\u001b[0m\u001b[1;36m39.952583\u001b[0m\u001b[1;33m,\u001b[0m\u001b[1;33m-\u001b[0m\u001b[1;36m75.165222\u001b[0m\u001b[1;33m]\u001b[0m\u001b[1;33m,\u001b[0m\u001b[1;33m[\u001b[0m\u001b[1;34m'SaltLakeCity'\u001b[0m\u001b[1;33m,\u001b[0m\u001b[1;36m40.758701\u001b[0m\u001b[1;33m,\u001b[0m\u001b[1;33m-\u001b[0m\u001b[1;36m111.876183\u001b[0m\u001b[1;33m]\u001b[0m\u001b[1;33m,\u001b[0m\u001b[1;33m\u001b[0m\u001b[1;33m\u001b[0m\u001b[0m\n\u001b[0;32m      3\u001b[0m                                  ['LosAngeles',34.052235,-118.243683],['Seattle',47.608013,-122.335167]],columns=['location','latitude','longitude'])\n",
      "\u001b[1;31mNameError\u001b[0m: name 'pd' is not defined"
     ]
    }
   ],
   "source": [
    "us_location_df = pd.DataFrame([['NewYorkCity',40.730610,-73.935242],['Jacksonville',30.332184,-81.655647],['Nashville',36.174465,-86.767960],['Chicago',41.881832,-87.623177],\n",
    "                                ['Houston', 29.749907,-95.358421],['OcklahomaCity',35.481918,-97.508469],['Philadelphia',39.952583,-75.165222],['SaltLakeCity',40.758701,-111.876183],\n",
    "                                 ['LosAngeles',34.052235,-118.243683],['Seattle',47.608013,-122.335167]],columns=['location','latitude','longitude'])"
   ]
  },
  {
   "cell_type": "code",
   "execution_count": 6,
   "metadata": {
    "scrolled": true
   },
   "outputs": [
    {
     "data": {
      "text/html": [
       "<div>\n",
       "<style scoped>\n",
       "    .dataframe tbody tr th:only-of-type {\n",
       "        vertical-align: middle;\n",
       "    }\n",
       "\n",
       "    .dataframe tbody tr th {\n",
       "        vertical-align: top;\n",
       "    }\n",
       "\n",
       "    .dataframe thead th {\n",
       "        text-align: right;\n",
       "    }\n",
       "</style>\n",
       "<table border=\"1\" class=\"dataframe\">\n",
       "  <thead>\n",
       "    <tr style=\"text-align: right;\">\n",
       "      <th></th>\n",
       "      <th>location</th>\n",
       "      <th>latitude</th>\n",
       "      <th>longitude</th>\n",
       "    </tr>\n",
       "  </thead>\n",
       "  <tbody>\n",
       "    <tr>\n",
       "      <th>0</th>\n",
       "      <td>NewYorkCity</td>\n",
       "      <td>40.730610</td>\n",
       "      <td>-73.935242</td>\n",
       "    </tr>\n",
       "    <tr>\n",
       "      <th>1</th>\n",
       "      <td>Jacksonville</td>\n",
       "      <td>30.332184</td>\n",
       "      <td>-81.655647</td>\n",
       "    </tr>\n",
       "    <tr>\n",
       "      <th>2</th>\n",
       "      <td>Nashville</td>\n",
       "      <td>36.174465</td>\n",
       "      <td>-86.767960</td>\n",
       "    </tr>\n",
       "    <tr>\n",
       "      <th>3</th>\n",
       "      <td>Chicago</td>\n",
       "      <td>41.881832</td>\n",
       "      <td>-87.623177</td>\n",
       "    </tr>\n",
       "    <tr>\n",
       "      <th>4</th>\n",
       "      <td>Houston</td>\n",
       "      <td>29.749907</td>\n",
       "      <td>-95.358421</td>\n",
       "    </tr>\n",
       "    <tr>\n",
       "      <th>5</th>\n",
       "      <td>OcklahomaCity</td>\n",
       "      <td>35.481918</td>\n",
       "      <td>-97.508469</td>\n",
       "    </tr>\n",
       "    <tr>\n",
       "      <th>6</th>\n",
       "      <td>Philadelphia</td>\n",
       "      <td>39.952583</td>\n",
       "      <td>-75.165222</td>\n",
       "    </tr>\n",
       "    <tr>\n",
       "      <th>7</th>\n",
       "      <td>SaltLakeCity</td>\n",
       "      <td>40.758701</td>\n",
       "      <td>-111.876183</td>\n",
       "    </tr>\n",
       "    <tr>\n",
       "      <th>8</th>\n",
       "      <td>LosAngeles</td>\n",
       "      <td>34.052235</td>\n",
       "      <td>-118.243683</td>\n",
       "    </tr>\n",
       "    <tr>\n",
       "      <th>9</th>\n",
       "      <td>Seattle</td>\n",
       "      <td>47.608013</td>\n",
       "      <td>-122.335167</td>\n",
       "    </tr>\n",
       "  </tbody>\n",
       "</table>\n",
       "</div>"
      ],
      "text/plain": [
       "        location   latitude   longitude\n",
       "0    NewYorkCity  40.730610  -73.935242\n",
       "1   Jacksonville  30.332184  -81.655647\n",
       "2      Nashville  36.174465  -86.767960\n",
       "3        Chicago  41.881832  -87.623177\n",
       "4        Houston  29.749907  -95.358421\n",
       "5  OcklahomaCity  35.481918  -97.508469\n",
       "6   Philadelphia  39.952583  -75.165222\n",
       "7   SaltLakeCity  40.758701 -111.876183\n",
       "8     LosAngeles  34.052235 -118.243683\n",
       "9        Seattle  47.608013 -122.335167"
      ]
     },
     "execution_count": 6,
     "metadata": {},
     "output_type": "execute_result"
    }
   ],
   "source": [
    "us_location_df"
   ]
  },
  {
   "cell_type": "code",
   "execution_count": 7,
   "metadata": {},
   "outputs": [],
   "source": [
    "# Write a function to return the grid location of these cities provided the co-ordinates are given:\n",
    "def return_url(lat,long):\n",
    "    URL = \"https://api.weather.gov/points/\" + lat + \",\" + long\n",
    "\n",
    "   #print(URL)\n",
    "    response = requests.get(URL)\n",
    "    \n",
    "    return response.json()['properties']['forecastGridData']"
   ]
  },
  {
   "cell_type": "code",
   "execution_count": 8,
   "metadata": {},
   "outputs": [
    {
     "name": "stdout",
     "output_type": "stream",
     "text": [
      "https://api.weather.gov/gridpoints/OKX/35,35\n",
      "https://api.met.no/weatherapi/locationforecast/2.0/compact?lat=40.73061&lon=-73.935242\n",
      "<Response [200]>\n",
      "https://api.weather.gov/gridpoints/JAX/65,64\n",
      "https://api.met.no/weatherapi/locationforecast/2.0/compact?lat=30.332184&lon=-81.655647\n",
      "<Response [200]>\n",
      "https://api.weather.gov/gridpoints/OHX/50,56\n",
      "https://api.met.no/weatherapi/locationforecast/2.0/compact?lat=36.174465&lon=-86.76796\n",
      "<Response [200]>\n",
      "https://api.weather.gov/gridpoints/LOT/75,72\n",
      "https://api.met.no/weatherapi/locationforecast/2.0/compact?lat=41.881832&lon=-87.623177\n",
      "<Response [200]>\n",
      "https://api.weather.gov/gridpoints/HGX/64,95\n",
      "https://api.met.no/weatherapi/locationforecast/2.0/compact?lat=29.749907&lon=-95.358421\n",
      "<Response [200]>\n",
      "https://api.weather.gov/gridpoints/OUN/97,93\n",
      "https://api.met.no/weatherapi/locationforecast/2.0/compact?lat=35.481918&lon=-97.508469\n",
      "<Response [200]>\n",
      "https://api.weather.gov/gridpoints/PHI/49,75\n",
      "https://api.met.no/weatherapi/locationforecast/2.0/compact?lat=39.952583&lon=-75.165222\n",
      "<Response [200]>\n",
      "https://api.weather.gov/gridpoints/SLC/100,174\n",
      "https://api.met.no/weatherapi/locationforecast/2.0/compact?lat=40.758701&lon=-111.876183\n",
      "<Response [200]>\n",
      "https://api.weather.gov/gridpoints/LOX/154,44\n",
      "https://api.met.no/weatherapi/locationforecast/2.0/compact?lat=34.052235&lon=-118.243683\n",
      "<Response [200]>\n",
      "https://api.weather.gov/gridpoints/SEW/124,67\n",
      "https://api.met.no/weatherapi/locationforecast/2.0/compact?lat=47.608013&lon=-122.335167\n",
      "<Response [200]>\n"
     ]
    }
   ],
   "source": [
    "for i in range(0,len(us_location_df)):\n",
    "    location = str(us_location_df['location'].iloc[i])\n",
    "    latitude = str(us_location_df['latitude'].iloc[i])\n",
    "    longitude = str(us_location_df['longitude'].iloc[i])\n",
    "    \n",
    "    # Get todays date and tomorrow's date \n",
    "    today = datetime.today().strftime('%Y-%m-%d')\n",
    "    tomorrow = (datetime.today() + timedelta(days=1)).strftime('%Y-%m-%d')\n",
    "    \n",
    "    URL = return_url(str(us_location_df.iloc[i]['latitude']),str(us_location_df.iloc[i]['longitude']))\n",
    "    #print(URL)\n",
    "    name = \"NOAA/\" + location + \"_\" + dt_string + \".xml\"\n",
    "    \n",
    "    URL0 = \"https://api.openweathermap.org/data/2.5/onecall?lat=\" + latitude+ \"&lon=\"+ longitude +\"&appid=\"+api_key\n",
    "    name0 = \"us_openweather/\" + location + \"_\" + dt_string + \".json\"\n",
    "    #print(URL0)\n",
    "    \n",
    "    headers = {\n",
    "        'User-Agent': 'Enda Kenneally',\n",
    "        'From':'endakenneally2@gmail.com'\n",
    "    }\n",
    "    \n",
    "    URL1 = \"https://api.met.no/weatherapi/locationforecast/2.0/compact?lat=\"+ latitude + \"&lon=\" + longitude\n",
    "    name1 = \"us_yr/\" + location + \"_\" + dt_string + \".json\"\n",
    "    #print(URL1)\n",
    "    \n",
    "    URL2 = \"http://api.worldweatheronline.com/premium/v1/weather.ashx?query=\" + latitude + \",\" + longitude + \"&num_of_days=4&tp=1&format=json&key=\" + wwo_api\n",
    "    name2 = \"us_wwo/\" + location + \"_\" + dt_string + \".json\"\n",
    "    #print(URL2)\n",
    "    \n",
    "    # Get response from url\n",
    "    response = requests.get(URL)\n",
    "    response2 = requests.get(URL0)\n",
    "    response3 = requests.get(URL1,headers=headers)\n",
    "    response4 = requests.get(URL2)\n",
    "    \n",
    "    #print(response3)\n",
    "   \n",
    "    \n",
    "    with open(name, 'wb') as file:\n",
    "        file.write(response.content)\n",
    "    \n",
    "    with open(name0, 'wb') as file:\n",
    "        file.write(response2.content)\n",
    "        \n",
    "    with open(name1, 'wb') as file:\n",
    "        file.write(response3.content)\n",
    "    \n",
    "    with open(name2, 'wb') as file:\n",
    "        file.write(response4.content)\n",
    "        "
   ]
  },
  {
   "cell_type": "code",
   "execution_count": null,
   "metadata": {},
   "outputs": [],
   "source": []
  },
  {
   "cell_type": "code",
   "execution_count": null,
   "metadata": {},
   "outputs": [],
   "source": []
  },
  {
   "cell_type": "code",
   "execution_count": null,
   "metadata": {},
   "outputs": [],
   "source": []
  },
  {
   "cell_type": "code",
   "execution_count": null,
   "metadata": {},
   "outputs": [],
   "source": [
    "\n",
    "\n"
   ]
  }
 ],
 "metadata": {
  "kernelspec": {
   "display_name": "Python 3",
   "language": "python",
   "name": "python3"
  },
  "language_info": {
   "codemirror_mode": {
    "name": "ipython",
    "version": 3
   },
   "file_extension": ".py",
   "mimetype": "text/x-python",
   "name": "python",
   "nbconvert_exporter": "python",
   "pygments_lexer": "ipython3",
   "version": "3.8.5"
  }
 },
 "nbformat": 4,
 "nbformat_minor": 2
}
