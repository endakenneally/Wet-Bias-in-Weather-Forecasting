{
 "cells": [
  {
   "cell_type": "code",
   "execution_count": 1,
   "metadata": {},
   "outputs": [],
   "source": [
    "## Here is an example that will collect data from Ballyhale\n",
    "## http://metwdb-openaccess.ichec.ie/metno-wdb2ts/locationforecast?lat=52.4676782;long=-7.2007941"
   ]
  },
  {
   "cell_type": "code",
   "execution_count": 2,
   "metadata": {},
   "outputs": [],
   "source": [
    "import pandas as pd"
   ]
  },
  {
   "cell_type": "code",
   "execution_count": 3,
   "metadata": {},
   "outputs": [],
   "source": [
    "# First we will need to get the API key for Openweather\n",
    "f = open('openweather_api.txt', 'r')\n",
    "api_key = f.read()\n",
    "\n",
    "g = open('wwo_api.txt','r')\n",
    "wwo_api = g.read ()"
   ]
  },
  {
   "cell_type": "code",
   "execution_count": 1,
   "metadata": {},
   "outputs": [],
   "source": [
    "from datetime import datetime,timedelta"
   ]
  },
  {
   "cell_type": "code",
   "execution_count": 5,
   "metadata": {},
   "outputs": [],
   "source": [
    "irish_location_df = pd.DataFrame([['Athenry',53.28916667,-8.78555556],['Ballyhaise',54.05138889,-7.30972222],['Belmullet',54.22750000,-10.00694444],['CarlowOakPark',52.86111111,-6.91527778],\n",
    "                                ['Claremorris',53.71083333,-8.99250000],['Dunsany',53.51593333,-6.66],['FermoyMoorepark',52.16388889,-8.26388889],['Finner',54.49388889,-8.24305556],\n",
    "                                 ['Gurteen',53.05305556,-8.00861111],['JohnstownCastle',52.29777778,-6.49666667],['MaceHead',53.32583333,-9.90083333],['MalinHead',55.37222222,-7.33888889],\n",
    "                                 ['Markree',54.175,-8.45555556],['MountDillon',53.72694444,-7.98083333],['Mullingar',53.53722222,-7.36222222],['Newport',53.9222222,-9.56722222],\n",
    "                                 ['PhoenixPark',53.36388889,-6.33333333],['RochesPoint',51.79305556,-8.24444444],['SherkinIsland',51.47638889,-9.42777778],['Valentia',51.93972222,-10.24444444]],\n",
    "                                columns=['location','latitude','longitude'])"
   ]
  },
  {
   "cell_type": "code",
   "execution_count": 7,
   "metadata": {},
   "outputs": [],
   "source": [
    "import requests\n",
    "\n",
    "for i in range(0,len(irish_location_df)):\n",
    "    location = str(irish_location_df['location'].iloc[i])\n",
    "    latitude = str(irish_location_df['latitude'].iloc[i])\n",
    "    longitude = str(irish_location_df['longitude'].iloc[i])\n",
    "    \n",
    "    # Get todays date and tomorrow's date \n",
    "    today = datetime.today().strftime('%Y-%m-%d')\n",
    "    tomorrow = (datetime.today() + timedelta(days=3)).strftime('%Y-%m-%d')\n",
    "    \n",
    "    headers = {\n",
    "        'User-Agent': 'Enda Kenneally',\n",
    "        'From':'endakenneally2@gmail.com'\n",
    "    }\n",
    "    \n",
    "    URL = \"http://metwdb-openaccess.ichec.ie/metno-wdb2ts/locationforecast?lat=\" + latitude+ \";long=\"+ longitude +\";from=\"+ today +\"T13:00;to=\"+ tomorrow +\"T23:00\"\n",
    "    name = \"met_eireann/\" + location + \"_\" + dt_string + \".xml\"\n",
    "    \n",
    "    URLO = \"https://api.openweathermap.org/data/2.5/onecall?lat=\" + latitude+ \"&lon=\"+ longitude +\"&appid=\"+api_key\n",
    "    nameO = \"openweather/\" + location + \"_\" + dt_string + \".json\"\n",
    "    \n",
    "    URL1 = \"https://api.met.no/weatherapi/locationforecast/2.0/compact?lat=\"+ latitude + \"&lon=\" + longitude\n",
    "    name1 = \"yr/\" + location + \"_\" + dt_string + \".json\"\n",
    "    \n",
    "    URL2 = \"http://api.worldweatheronline.com/premium/v1/weather.ashx?query=\" + latitude + \",\" + longitude + \"&num_of_days=4&tp=1&format=json&key=\" + wwo_api\n",
    "    name2 = \"wwo/\" + location + \"_\" + dt_string + \".json\"\n",
    "    \n",
    "    #print(URL)\n",
    "    #print(URLO)\n",
    "    #print(URL1)\n",
    "    #print(URL2)\n",
    "    \n",
    "    # Get response from url\n",
    "    response = requests.get(URL)\n",
    "    response2 = requests.get(URLO)\n",
    "    response3 = requests.get(URL1,headers=headers)\n",
    "    response4 = requests.get(URL2)\n",
    "    \n",
    "    with open(name, 'wb') as file:\n",
    "        file.write(response.content)\n",
    "        \n",
    "    with open(nameO, 'wb') as file:\n",
    "        file.write(response2.content)\n",
    "        \n",
    "    with open(name1, 'wb') as file:\n",
    "        file.write(response3.content)\n",
    "    \n",
    "    with open(name2, 'wb') as file:\n",
    "        file.write(response4.content)\n",
    "        "
   ]
  },
  {
   "cell_type": "code",
   "execution_count": 8,
   "metadata": {},
   "outputs": [
    {
     "name": "stdout",
     "output_type": "stream",
     "text": [
      "           location   latitude  longitude\n",
      "0           Athenry  53.289167  -8.785556\n",
      "1        Ballyhaise  54.051389  -7.309722\n",
      "2         Belmullet  54.227500 -10.006944\n",
      "3     CarlowOakPark  52.861111  -6.915278\n",
      "4       Claremorris  53.710833  -8.992500\n",
      "5           Dunsany  53.515933  -6.660000\n",
      "6   FermoyMoorepark  52.163889  -8.263889\n",
      "7            Finner  54.493889  -8.243056\n",
      "8           Gurteen  53.053056  -8.008611\n",
      "9   JohnstownCastle  52.297778  -6.496667\n",
      "10         MaceHead  53.325833  -9.900833\n",
      "11        MalinHead  55.372222  -7.338889\n",
      "12          Markree  54.175000  -8.455556\n",
      "13      MountDillon  53.726944  -7.980833\n",
      "14        Mullingar  53.537222  -7.362222\n",
      "15          Newport  53.922222  -9.567222\n",
      "16      PhoenixPark  53.363889  -6.333333\n",
      "17      RochesPoint  51.793056  -8.244444\n",
      "18    SherkinIsland  51.476389  -9.427778\n",
      "19         Valentia  51.939722 -10.244444\n"
     ]
    }
   ],
   "source": [
    "print(irish_location_df)"
   ]
  },
  {
   "cell_type": "code",
   "execution_count": 9,
   "metadata": {},
   "outputs": [],
   "source": [
    "URL = \"http://metwdb-openaccess.ichec.ie/metno-wdb2ts/locationforecast?lat=52.4676782;long=-7.2007941;from=2020-12-08T16:00;to=2020-12-09T23:00\"\n",
    "name = \"met_eireann/Ballyhale_\" + dt_string + \".xml\"\n",
    "response = requests.get(URL)\n",
    "\n",
    "with open(name, 'wb') as file:\n",
    "        file.write(response.content)"
   ]
  },
  {
   "cell_type": "code",
   "execution_count": 10,
   "metadata": {},
   "outputs": [
    {
     "data": {
      "text/plain": [
       "'2021-05-03'"
      ]
     },
     "execution_count": 10,
     "metadata": {},
     "output_type": "execute_result"
    }
   ],
   "source": [
    "datetime.today().strftime('%Y-%m-%d')"
   ]
  },
  {
   "cell_type": "code",
   "execution_count": 11,
   "metadata": {},
   "outputs": [
    {
     "data": {
      "text/plain": [
       "'2021-05-04'"
      ]
     },
     "execution_count": 11,
     "metadata": {},
     "output_type": "execute_result"
    }
   ],
   "source": [
    "(datetime.today() + timedelta(days=1)).strftime('%Y-%m-%d')"
   ]
  }
 ],
 "metadata": {
  "kernelspec": {
   "display_name": "Python 3",
   "language": "python",
   "name": "python3"
  },
  "language_info": {
   "codemirror_mode": {
    "name": "ipython",
    "version": 3
   },
   "file_extension": ".py",
   "mimetype": "text/x-python",
   "name": "python",
   "nbconvert_exporter": "python",
   "pygments_lexer": "ipython3",
   "version": "3.8.5"
  }
 },
 "nbformat": 4,
 "nbformat_minor": 2
}
